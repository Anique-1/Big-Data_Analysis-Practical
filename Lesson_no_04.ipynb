{
 "cells": [
  {
   "cell_type": "markdown",
   "metadata": {},
   "source": [
    "# Feature Selection and Dimension Reduction\n",
    "Both feature selection and dimension reduction are techniques used in machine learning and data analysis to handle high-dimensional data, but they work in different ways:\n",
    "## Feature Selection\n",
    "Feature selection involves identifying and selecting a subset of the original features that are most relevant to the prediction task. This process eliminates redundant or irrelevant features while preserving the most informative ones.\n",
    "## Dimension Reduction\n",
    "Dimension reduction transforms the original high-dimensional data into a lower-dimensional space while trying to preserve the essential information and structure of the data."
   ]
  },
  {
   "cell_type": "code",
   "execution_count": 22,
   "metadata": {},
   "outputs": [],
   "source": [
    "from sklearn.datasets import load_breast_cancer\n",
    "from sklearn.feature_selection import SelectKBest, chi2 , _mutual_info, mutual_info_classif, mutual_info_regression, SelectPercentile"
   ]
  },
  {
   "cell_type": "code",
   "execution_count": 23,
   "metadata": {},
   "outputs": [
    {
     "name": "stdout",
     "output_type": "stream",
     "text": [
      "(569, 30)\n"
     ]
    }
   ],
   "source": [
    "x, y=load_breast_cancer(return_X_y=True)\n",
    "print(x.shape)"
   ]
  },
  {
   "cell_type": "code",
   "execution_count": 24,
   "metadata": {},
   "outputs": [
    {
     "name": "stdout",
     "output_type": "stream",
     "text": [
      "(569, 5)\n",
      "(569, 5)\n"
     ]
    }
   ],
   "source": [
    "k_chi=SelectKBest(mutual_info_classif, k=5).fit_transform(x, y)\n",
    "print(k_chi.shape)\n",
    "per_chi=SelectPercentile(chi2, percentile=15).fit_transform(x,y)\n",
    "print(per_chi.shape)"
   ]
  },
  {
   "cell_type": "code",
   "execution_count": 27,
   "metadata": {},
   "outputs": [
    {
     "name": "stdout",
     "output_type": "stream",
     "text": [
      "['worst perimeter' 'worst area']\n"
     ]
    }
   ],
   "source": [
    "bc=load_breast_cancer()\n",
    "X,Y=bc.data, bc.target\n",
    "feature_name=bc.feature_names\n",
    "\n",
    "\n",
    "\n",
    "perchi=SelectPercentile(mutual_info_classif, percentile=5).fit(X,Y)\n",
    "trans_per=perchi.transform(X)\n",
    "print(feature_name[perchi.get_support()])"
   ]
  },
  {
   "cell_type": "code",
   "execution_count": 28,
   "metadata": {},
   "outputs": [
    {
     "name": "stdout",
     "output_type": "stream",
     "text": [
      "['mean concave points' 'worst radius' 'worst perimeter' 'worst area'\n",
      " 'worst concave points']\n"
     ]
    }
   ],
   "source": [
    "k_chi=SelectKBest(mutual_info_classif, k=5).fit(X,Y)\n",
    "trans_chi=k_chi.transform(X)\n",
    "print(feature_name[k_chi.get_support()])"
   ]
  },
  {
   "cell_type": "code",
   "execution_count": null,
   "metadata": {},
   "outputs": [],
   "source": []
  }
 ],
 "metadata": {
  "kernelspec": {
   "display_name": "Python 3",
   "language": "python",
   "name": "python3"
  },
  "language_info": {
   "codemirror_mode": {
    "name": "ipython",
    "version": 3
   },
   "file_extension": ".py",
   "mimetype": "text/x-python",
   "name": "python",
   "nbconvert_exporter": "python",
   "pygments_lexer": "ipython3",
   "version": "3.12.8"
  }
 },
 "nbformat": 4,
 "nbformat_minor": 2
}
